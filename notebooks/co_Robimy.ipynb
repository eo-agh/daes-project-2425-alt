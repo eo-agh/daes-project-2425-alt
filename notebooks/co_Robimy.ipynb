{
 "cells": [
  {
   "cell_type": "markdown",
   "id": "47c151ea-5417-4934-9179-e13c8732a379",
   "metadata": {},
   "source": [
    "### Co już jest.\n",
    "\n",
    "Wstępnie przeprocesowane dane opadowe i hydrologiczne.\n",
    "\n",
    "Zlewnie Poziom 2\n"
   ]
  },
  {
   "cell_type": "markdown",
   "id": "f56f20b2-f632-4f20-a990-fd66712cef50",
   "metadata": {},
   "source": [
    "### Co robimy?\n",
    "\n",
    "Pracujemy na zlewni NR 10.\n",
    "\n",
    "Zadania na 30.05.\n",
    "\n",
    "1. FE na danych meteo.\n",
    "2. Dekompozycja STL Stanu Wody\n",
    "3. Analiza Lagu hydrologicznego - jak opady wpływają na stan wody (najbliższa stacja hydro-meteo)\n",
    "\n",
    "Jakich wyników oczekujemy.\n",
    "\n",
    "1. Czy jest trend długofalowy - 12 lat. (sezonowość też)\n",
    "2. Lag zmienia się w zależności od położenia?\n",
    "3. Czy należy korzystać z wszystkich zmiennych w Danych Meteo\n",
    "\n"
   ]
  }
 ],
 "metadata": {
  "kernelspec": {
   "display_name": "Python 3 (ipykernel)",
   "language": "python",
   "name": "python3"
  },
  "language_info": {
   "codemirror_mode": {
    "name": "ipython",
    "version": 3
   },
   "file_extension": ".py",
   "mimetype": "text/x-python",
   "name": "python",
   "nbconvert_exporter": "python",
   "pygments_lexer": "ipython3",
   "version": "3.11.11"
  }
 },
 "nbformat": 4,
 "nbformat_minor": 5
}
