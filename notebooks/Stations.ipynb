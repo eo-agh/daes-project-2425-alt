{
 "cells": [
  {
   "cell_type": "code",
   "execution_count": 6,
   "id": "1884d528-d483-4309-a3a4-4d2232e26fd0",
   "metadata": {},
   "outputs": [
    {
     "name": "stdout",
     "output_type": "stream",
     "text": [
      "   kod_stacji    nazwa_stacji        lon        lat\n",
      "0   150160330        SZCZYTNA  16.443056  50.415556\n",
      "1   150160340           SARNY  16.465833  50.547778\n",
      "2   150160350  SZALEJÓW GÓRNY  16.537222  50.418333\n",
      "3   150160360         STARKÓW  16.580000  50.377500\n",
      "4   150160370        TOPOLICE  16.609167  50.366944\n",
      "   kod_stacji nazwa_stacji        lon        lat\n",
      "0   252210290     RYBIENKO  21.429167  52.577778\n",
      "1   351230497      WŁODAWA  23.529444  51.553333\n",
      "2   352220385      SIEDLCE  22.244722  52.181111\n",
      "3   250240010     STRZYŻÓW  24.035556  50.840000\n",
      "4   352230399     TERESPOL  23.621944  52.078611\n"
     ]
    }
   ],
   "source": [
    "from imgw_api import get_hydro_metadata, get_meteo_metadata\n",
    "\n",
    "hydro_df = get_hydro_metadata()\n",
    "meteo_df = get_meteo_metadata()\n",
    "    \n",
    "print(hydro_df.head())\n",
    "print(meteo_df.head())\n"
   ]
  }
 ],
 "metadata": {
  "kernelspec": {
   "display_name": "Python [conda env:base] *",
   "language": "python",
   "name": "conda-base-py"
  },
  "language_info": {
   "codemirror_mode": {
    "name": "ipython",
    "version": 3
   },
   "file_extension": ".py",
   "mimetype": "text/x-python",
   "name": "python",
   "nbconvert_exporter": "python",
   "pygments_lexer": "ipython3",
   "version": "3.12.7"
  }
 },
 "nbformat": 4,
 "nbformat_minor": 5
}
