{
 "cells": [
  {
   "cell_type": "code",
   "execution_count": 1,
   "id": "b859ab29-d383-475c-904a-86d8055c4d28",
   "metadata": {},
   "outputs": [],
   "source": [
    "import geopandas as gpd\n",
    "from imgw_static import get_map_zlewnie, get_static_data_hydro\n",
    "from imgw_api import get_hydro_metadata, get_meteo_metadata\n",
    "import pandas as pd\n",
    "import numpy as np"
   ]
  },
  {
   "cell_type": "markdown",
   "id": "e6f45cb5-6c05-4368-a71d-88569b99b7d5",
   "metadata": {},
   "source": [
    "# Preprocessing\n",
    "\n",
    "## Dane Hydrologiczne"
   ]
  },
  {
   "cell_type": "markdown",
   "id": "881961ab-14c0-430f-b602-a6539281fa3c",
   "metadata": {},
   "source": [
    "Dane Pomiarowe"
   ]
  },
  {
   "cell_type": "code",
   "execution_count": 4,
   "id": "af277961-4f72-4fea-b5ec-24345eb59a93",
   "metadata": {},
   "outputs": [],
   "source": [
    "df = get_static_data_hydro()"
   ]
  },
  {
   "cell_type": "code",
   "execution_count": 5,
   "id": "8069fb6a-296e-447e-b350-b24bcb2db1e3",
   "metadata": {},
   "outputs": [
    {
     "name": "stdout",
     "output_type": "stream",
     "text": [
      "Shape:  (4273340, 10)\n",
      "Ilość stacji hydro w danych pomiarowych:  917\n"
     ]
    },
    {
     "data": {
      "text/html": [
       "<div>\n",
       "<style scoped>\n",
       "    .dataframe tbody tr th:only-of-type {\n",
       "        vertical-align: middle;\n",
       "    }\n",
       "\n",
       "    .dataframe tbody tr th {\n",
       "        vertical-align: top;\n",
       "    }\n",
       "\n",
       "    .dataframe thead th {\n",
       "        text-align: right;\n",
       "    }\n",
       "</style>\n",
       "<table border=\"1\" class=\"dataframe\">\n",
       "  <thead>\n",
       "    <tr style=\"text-align: right;\">\n",
       "      <th></th>\n",
       "      <th>Station Code</th>\n",
       "      <th>Station Name</th>\n",
       "      <th>Name</th>\n",
       "      <th>Hydro Year</th>\n",
       "      <th>Hydro Month</th>\n",
       "      <th>Day</th>\n",
       "      <th>Water Level</th>\n",
       "      <th>Flow</th>\n",
       "      <th>Water Temp</th>\n",
       "      <th>Calendar Month</th>\n",
       "    </tr>\n",
       "  </thead>\n",
       "  <tbody>\n",
       "    <tr>\n",
       "      <th>0</th>\n",
       "      <td>149180020</td>\n",
       "      <td>CHA£UPKI</td>\n",
       "      <td>Odra (1)</td>\n",
       "      <td>2010</td>\n",
       "      <td>1</td>\n",
       "      <td>1</td>\n",
       "      <td>158</td>\n",
       "      <td>30.8</td>\n",
       "      <td>99.9</td>\n",
       "      <td>11</td>\n",
       "    </tr>\n",
       "    <tr>\n",
       "      <th>1</th>\n",
       "      <td>149180020</td>\n",
       "      <td>CHA£UPKI</td>\n",
       "      <td>Odra (1)</td>\n",
       "      <td>2010</td>\n",
       "      <td>1</td>\n",
       "      <td>2</td>\n",
       "      <td>154</td>\n",
       "      <td>28.5</td>\n",
       "      <td>99.9</td>\n",
       "      <td>11</td>\n",
       "    </tr>\n",
       "    <tr>\n",
       "      <th>2</th>\n",
       "      <td>149180020</td>\n",
       "      <td>CHA£UPKI</td>\n",
       "      <td>Odra (1)</td>\n",
       "      <td>2010</td>\n",
       "      <td>1</td>\n",
       "      <td>3</td>\n",
       "      <td>150</td>\n",
       "      <td>26.0</td>\n",
       "      <td>99.9</td>\n",
       "      <td>11</td>\n",
       "    </tr>\n",
       "    <tr>\n",
       "      <th>3</th>\n",
       "      <td>149180020</td>\n",
       "      <td>CHA£UPKI</td>\n",
       "      <td>Odra (1)</td>\n",
       "      <td>2010</td>\n",
       "      <td>1</td>\n",
       "      <td>4</td>\n",
       "      <td>149</td>\n",
       "      <td>25.4</td>\n",
       "      <td>99.9</td>\n",
       "      <td>11</td>\n",
       "    </tr>\n",
       "    <tr>\n",
       "      <th>4</th>\n",
       "      <td>149180020</td>\n",
       "      <td>CHA£UPKI</td>\n",
       "      <td>Odra (1)</td>\n",
       "      <td>2010</td>\n",
       "      <td>1</td>\n",
       "      <td>5</td>\n",
       "      <td>149</td>\n",
       "      <td>25.9</td>\n",
       "      <td>99.9</td>\n",
       "      <td>11</td>\n",
       "    </tr>\n",
       "  </tbody>\n",
       "</table>\n",
       "</div>"
      ],
      "text/plain": [
       "   Station Code Station Name      Name  Hydro Year  Hydro Month  Day  \\\n",
       "0     149180020     CHA£UPKI  Odra (1)        2010            1    1   \n",
       "1     149180020     CHA£UPKI  Odra (1)        2010            1    2   \n",
       "2     149180020     CHA£UPKI  Odra (1)        2010            1    3   \n",
       "3     149180020     CHA£UPKI  Odra (1)        2010            1    4   \n",
       "4     149180020     CHA£UPKI  Odra (1)        2010            1    5   \n",
       "\n",
       "   Water Level  Flow  Water Temp  Calendar Month  \n",
       "0          158  30.8        99.9              11  \n",
       "1          154  28.5        99.9              11  \n",
       "2          150  26.0        99.9              11  \n",
       "3          149  25.4        99.9              11  \n",
       "4          149  25.9        99.9              11  "
      ]
     },
     "execution_count": 5,
     "metadata": {},
     "output_type": "execute_result"
    }
   ],
   "source": [
    "print(\"Shape: \", df.shape)\n",
    "print(\"Ilość stacji hydro w danych pomiarowych: \",df[\"Station Code\"].nunique())\n",
    "df.head()\n"
   ]
  },
  {
   "cell_type": "markdown",
   "id": "04b5303d-2dba-46a9-a7b2-a0e59490ac83",
   "metadata": {},
   "source": [
    "Dane Meta"
   ]
  },
  {
   "cell_type": "code",
   "execution_count": 7,
   "id": "cc228b5e-b3ee-46aa-81b1-5b3d3e48e0f4",
   "metadata": {},
   "outputs": [
    {
     "name": "stdout",
     "output_type": "stream",
     "text": [
      "Shape:  (860, 5)\n",
      "Ilość stacji hydro w meta danych:  860\n"
     ]
    },
    {
     "data": {
      "text/html": [
       "<div>\n",
       "<style scoped>\n",
       "    .dataframe tbody tr th:only-of-type {\n",
       "        vertical-align: middle;\n",
       "    }\n",
       "\n",
       "    .dataframe tbody tr th {\n",
       "        vertical-align: top;\n",
       "    }\n",
       "\n",
       "    .dataframe thead th {\n",
       "        text-align: right;\n",
       "    }\n",
       "</style>\n",
       "<table border=\"1\" class=\"dataframe\">\n",
       "  <thead>\n",
       "    <tr style=\"text-align: right;\">\n",
       "      <th></th>\n",
       "      <th>Station Code</th>\n",
       "      <th>Station Name</th>\n",
       "      <th>Lon</th>\n",
       "      <th>Lat</th>\n",
       "      <th>geometry</th>\n",
       "    </tr>\n",
       "  </thead>\n",
       "  <tbody>\n",
       "    <tr>\n",
       "      <th>0</th>\n",
       "      <td>150160330</td>\n",
       "      <td>SZCZYTNA</td>\n",
       "      <td>16.443056</td>\n",
       "      <td>50.415556</td>\n",
       "      <td>POINT (318401.478 286283.506)</td>\n",
       "    </tr>\n",
       "    <tr>\n",
       "      <th>1</th>\n",
       "      <td>150160340</td>\n",
       "      <td>SARNY</td>\n",
       "      <td>16.465833</td>\n",
       "      <td>50.547778</td>\n",
       "      <td>POINT (320520.661 300923.221)</td>\n",
       "    </tr>\n",
       "    <tr>\n",
       "      <th>2</th>\n",
       "      <td>150160350</td>\n",
       "      <td>SZALEJÓW GÓRNY</td>\n",
       "      <td>16.537222</td>\n",
       "      <td>50.418333</td>\n",
       "      <td>POINT (325098.752 286366.241)</td>\n",
       "    </tr>\n",
       "    <tr>\n",
       "      <th>3</th>\n",
       "      <td>150160360</td>\n",
       "      <td>STARKÓW</td>\n",
       "      <td>16.580000</td>\n",
       "      <td>50.377500</td>\n",
       "      <td>POINT (327988.637 281728.229)</td>\n",
       "    </tr>\n",
       "    <tr>\n",
       "      <th>4</th>\n",
       "      <td>150160370</td>\n",
       "      <td>TOPOLICE</td>\n",
       "      <td>16.609167</td>\n",
       "      <td>50.366944</td>\n",
       "      <td>POINT (330023.848 280487.958)</td>\n",
       "    </tr>\n",
       "  </tbody>\n",
       "</table>\n",
       "</div>"
      ],
      "text/plain": [
       "   Station Code    Station Name        Lon        Lat  \\\n",
       "0     150160330        SZCZYTNA  16.443056  50.415556   \n",
       "1     150160340           SARNY  16.465833  50.547778   \n",
       "2     150160350  SZALEJÓW GÓRNY  16.537222  50.418333   \n",
       "3     150160360         STARKÓW  16.580000  50.377500   \n",
       "4     150160370        TOPOLICE  16.609167  50.366944   \n",
       "\n",
       "                        geometry  \n",
       "0  POINT (318401.478 286283.506)  \n",
       "1  POINT (320520.661 300923.221)  \n",
       "2  POINT (325098.752 286366.241)  \n",
       "3  POINT (327988.637 281728.229)  \n",
       "4  POINT (330023.848 280487.958)  "
      ]
     },
     "execution_count": 7,
     "metadata": {},
     "output_type": "execute_result"
    }
   ],
   "source": [
    "gdf = get_hydro_metadata()\n",
    "print(\"Shape: \", gdf.shape)\n",
    "print(\"Ilość stacji hydro w meta danych: \",gdf[\"Station Code\"].nunique())\n",
    "gdf.head()"
   ]
  },
  {
   "cell_type": "markdown",
   "id": "d663b0f3-6c37-4a0e-b012-362f75c3de9a",
   "metadata": {},
   "source": [
    "## Wstępna selekcja danych hydrologicznych\n",
    "\n",
    "Wybieramy stacje które:\n",
    "\n",
    "1. Rozpoczęły pomiary przed lub w 2010 roku.\n",
    "2. Można zmapować do ich lokalizacji."
   ]
  },
  {
   "cell_type": "code",
   "execution_count": 9,
   "id": "85a32bfa-91a4-415d-b021-28df8d612eb7",
   "metadata": {},
   "outputs": [
    {
     "data": {
      "text/html": [
       "<div>\n",
       "<style scoped>\n",
       "    .dataframe tbody tr th:only-of-type {\n",
       "        vertical-align: middle;\n",
       "    }\n",
       "\n",
       "    .dataframe tbody tr th {\n",
       "        vertical-align: top;\n",
       "    }\n",
       "\n",
       "    .dataframe thead th {\n",
       "        text-align: right;\n",
       "    }\n",
       "</style>\n",
       "<table border=\"1\" class=\"dataframe\">\n",
       "  <thead>\n",
       "    <tr style=\"text-align: right;\">\n",
       "      <th></th>\n",
       "      <th>Station Code</th>\n",
       "      <th>Station Name</th>\n",
       "      <th>Name</th>\n",
       "      <th>Hydro Year</th>\n",
       "      <th>Hydro Month</th>\n",
       "      <th>Day</th>\n",
       "      <th>Water Level</th>\n",
       "      <th>Flow</th>\n",
       "      <th>Water Temp</th>\n",
       "      <th>Calendar Month</th>\n",
       "      <th>Calendar Year</th>\n",
       "    </tr>\n",
       "  </thead>\n",
       "  <tbody>\n",
       "    <tr>\n",
       "      <th>0</th>\n",
       "      <td>149180020</td>\n",
       "      <td>CHA£UPKI</td>\n",
       "      <td>Odra (1)</td>\n",
       "      <td>2010</td>\n",
       "      <td>3</td>\n",
       "      <td>1</td>\n",
       "      <td>201</td>\n",
       "      <td>71.90</td>\n",
       "      <td>99.9</td>\n",
       "      <td>1</td>\n",
       "      <td>2010</td>\n",
       "    </tr>\n",
       "    <tr>\n",
       "      <th>1</th>\n",
       "      <td>149180020</td>\n",
       "      <td>CHA£UPKI</td>\n",
       "      <td>Odra (1)</td>\n",
       "      <td>2010</td>\n",
       "      <td>3</td>\n",
       "      <td>2</td>\n",
       "      <td>202</td>\n",
       "      <td>73.00</td>\n",
       "      <td>99.9</td>\n",
       "      <td>1</td>\n",
       "      <td>2010</td>\n",
       "    </tr>\n",
       "    <tr>\n",
       "      <th>2</th>\n",
       "      <td>149180020</td>\n",
       "      <td>CHA£UPKI</td>\n",
       "      <td>Odra (1)</td>\n",
       "      <td>2010</td>\n",
       "      <td>3</td>\n",
       "      <td>3</td>\n",
       "      <td>193</td>\n",
       "      <td>64.10</td>\n",
       "      <td>99.9</td>\n",
       "      <td>1</td>\n",
       "      <td>2010</td>\n",
       "    </tr>\n",
       "    <tr>\n",
       "      <th>3</th>\n",
       "      <td>149180020</td>\n",
       "      <td>CHA£UPKI</td>\n",
       "      <td>Odra (1)</td>\n",
       "      <td>2010</td>\n",
       "      <td>3</td>\n",
       "      <td>4</td>\n",
       "      <td>181</td>\n",
       "      <td>51.70</td>\n",
       "      <td>99.9</td>\n",
       "      <td>1</td>\n",
       "      <td>2010</td>\n",
       "    </tr>\n",
       "    <tr>\n",
       "      <th>4</th>\n",
       "      <td>149180020</td>\n",
       "      <td>CHA£UPKI</td>\n",
       "      <td>Odra (1)</td>\n",
       "      <td>2010</td>\n",
       "      <td>3</td>\n",
       "      <td>5</td>\n",
       "      <td>180</td>\n",
       "      <td>51.40</td>\n",
       "      <td>99.9</td>\n",
       "      <td>1</td>\n",
       "      <td>2010</td>\n",
       "    </tr>\n",
       "    <tr>\n",
       "      <th>...</th>\n",
       "      <td>...</td>\n",
       "      <td>...</td>\n",
       "      <td>...</td>\n",
       "      <td>...</td>\n",
       "      <td>...</td>\n",
       "      <td>...</td>\n",
       "      <td>...</td>\n",
       "      <td>...</td>\n",
       "      <td>...</td>\n",
       "      <td>...</td>\n",
       "      <td>...</td>\n",
       "    </tr>\n",
       "    <tr>\n",
       "      <th>301685</th>\n",
       "      <td>149190250</td>\n",
       "      <td>JABŁONKA</td>\n",
       "      <td>Piekielnik (82224)</td>\n",
       "      <td>2023</td>\n",
       "      <td>2</td>\n",
       "      <td>27</td>\n",
       "      <td>161</td>\n",
       "      <td>3.08</td>\n",
       "      <td>99.9</td>\n",
       "      <td>12</td>\n",
       "      <td>2022</td>\n",
       "    </tr>\n",
       "    <tr>\n",
       "      <th>301686</th>\n",
       "      <td>149190250</td>\n",
       "      <td>JABŁONKA</td>\n",
       "      <td>Piekielnik (82224)</td>\n",
       "      <td>2023</td>\n",
       "      <td>2</td>\n",
       "      <td>28</td>\n",
       "      <td>157</td>\n",
       "      <td>2.42</td>\n",
       "      <td>99.9</td>\n",
       "      <td>12</td>\n",
       "      <td>2022</td>\n",
       "    </tr>\n",
       "    <tr>\n",
       "      <th>301687</th>\n",
       "      <td>149190250</td>\n",
       "      <td>JABŁONKA</td>\n",
       "      <td>Piekielnik (82224)</td>\n",
       "      <td>2023</td>\n",
       "      <td>2</td>\n",
       "      <td>29</td>\n",
       "      <td>153</td>\n",
       "      <td>1.80</td>\n",
       "      <td>99.9</td>\n",
       "      <td>12</td>\n",
       "      <td>2022</td>\n",
       "    </tr>\n",
       "    <tr>\n",
       "      <th>301688</th>\n",
       "      <td>149190250</td>\n",
       "      <td>JABŁONKA</td>\n",
       "      <td>Piekielnik (82224)</td>\n",
       "      <td>2023</td>\n",
       "      <td>2</td>\n",
       "      <td>30</td>\n",
       "      <td>151</td>\n",
       "      <td>1.32</td>\n",
       "      <td>99.9</td>\n",
       "      <td>12</td>\n",
       "      <td>2022</td>\n",
       "    </tr>\n",
       "    <tr>\n",
       "      <th>301689</th>\n",
       "      <td>149190250</td>\n",
       "      <td>JABŁONKA</td>\n",
       "      <td>Piekielnik (82224)</td>\n",
       "      <td>2023</td>\n",
       "      <td>2</td>\n",
       "      <td>31</td>\n",
       "      <td>149</td>\n",
       "      <td>1.10</td>\n",
       "      <td>99.9</td>\n",
       "      <td>12</td>\n",
       "      <td>2022</td>\n",
       "    </tr>\n",
       "  </tbody>\n",
       "</table>\n",
       "<p>3970100 rows × 11 columns</p>\n",
       "</div>"
      ],
      "text/plain": [
       "        Station Code Station Name                Name  Hydro Year  \\\n",
       "0          149180020     CHA£UPKI            Odra (1)        2010   \n",
       "1          149180020     CHA£UPKI            Odra (1)        2010   \n",
       "2          149180020     CHA£UPKI            Odra (1)        2010   \n",
       "3          149180020     CHA£UPKI            Odra (1)        2010   \n",
       "4          149180020     CHA£UPKI            Odra (1)        2010   \n",
       "...              ...          ...                 ...         ...   \n",
       "301685     149190250     JABŁONKA  Piekielnik (82224)        2023   \n",
       "301686     149190250     JABŁONKA  Piekielnik (82224)        2023   \n",
       "301687     149190250     JABŁONKA  Piekielnik (82224)        2023   \n",
       "301688     149190250     JABŁONKA  Piekielnik (82224)        2023   \n",
       "301689     149190250     JABŁONKA  Piekielnik (82224)        2023   \n",
       "\n",
       "        Hydro Month  Day  Water Level   Flow  Water Temp  Calendar Month  \\\n",
       "0                 3    1          201  71.90        99.9               1   \n",
       "1                 3    2          202  73.00        99.9               1   \n",
       "2                 3    3          193  64.10        99.9               1   \n",
       "3                 3    4          181  51.70        99.9               1   \n",
       "4                 3    5          180  51.40        99.9               1   \n",
       "...             ...  ...          ...    ...         ...             ...   \n",
       "301685            2   27          161   3.08        99.9              12   \n",
       "301686            2   28          157   2.42        99.9              12   \n",
       "301687            2   29          153   1.80        99.9              12   \n",
       "301688            2   30          151   1.32        99.9              12   \n",
       "301689            2   31          149   1.10        99.9              12   \n",
       "\n",
       "        Calendar Year  \n",
       "0                2010  \n",
       "1                2010  \n",
       "2                2010  \n",
       "3                2010  \n",
       "4                2010  \n",
       "...               ...  \n",
       "301685           2022  \n",
       "301686           2022  \n",
       "301687           2022  \n",
       "301688           2022  \n",
       "301689           2022  \n",
       "\n",
       "[3970100 rows x 11 columns]"
      ]
     },
     "execution_count": 9,
     "metadata": {},
     "output_type": "execute_result"
    }
   ],
   "source": [
    "df['Calendar Year'] = np.where(df['Hydro Month'] <3, df['Hydro Year']-1, df['Hydro Year'])\n",
    "df = df.loc[df['Calendar Year'] < 2023, :]\n",
    "df = df.loc[df['Calendar Year'] >= 2010, :]\n",
    "df"
   ]
  },
  {
   "cell_type": "code",
   "execution_count": 10,
   "id": "6003de61-2309-46a7-83bd-0bd0d3853c84",
   "metadata": {},
   "outputs": [],
   "source": [
    "df['Calendar Date'] = df['Calendar Year'].astype(str) + '-' + \\\n",
    "                        df['Calendar Month'].astype(str).str.zfill(2) + '-' + \\\n",
    "                        df['Day'].astype(str).str.zfill(2)\n",
    "df['Calendar Date'] = pd.to_datetime(df['Calendar Date'])"
   ]
  },
  {
   "cell_type": "markdown",
   "id": "a86542b5-f710-40ba-bd34-7c3fd7b963e8",
   "metadata": {},
   "source": [
    "Odcinamy stacje z pierszwego warunku."
   ]
  },
  {
   "cell_type": "code",
   "execution_count": 12,
   "id": "bc7dc31e-7373-470e-8c33-c83344fabc09",
   "metadata": {},
   "outputs": [],
   "source": [
    "valid_stations = df.groupby(\"Station Code\")[\"Calendar Year\"].min()\n",
    "valid_stations = valid_stations[valid_stations <= 2010]\n",
    "\n",
    "filtered_df = df[df[\"Station Code\"].isin(valid_stations.index)]"
   ]
  },
  {
   "cell_type": "code",
   "execution_count": 13,
   "id": "b248e87e-faf8-4dda-aae0-b3f8352b121e",
   "metadata": {},
   "outputs": [
    {
     "data": {
      "text/plain": [
       "866"
      ]
     },
     "execution_count": 13,
     "metadata": {},
     "output_type": "execute_result"
    }
   ],
   "source": [
    "filtered_df['Station Code'].nunique()"
   ]
  },
  {
   "cell_type": "markdown",
   "id": "819feb61-a2dd-4c7b-b896-358bca0b748a",
   "metadata": {},
   "source": [
    "Odcinamy stacje z drugiego warunku."
   ]
  },
  {
   "cell_type": "code",
   "execution_count": 15,
   "id": "141a9f72-9766-4445-98aa-309803df58a2",
   "metadata": {},
   "outputs": [],
   "source": [
    "valid_stations = gdf['Station Code']\n",
    "\n",
    "filtered_df_2 = filtered_df[filtered_df[\"Station Code\"].isin(valid_stations)]"
   ]
  },
  {
   "cell_type": "code",
   "execution_count": 16,
   "id": "1045c940-f70d-4956-bdea-ee1634640213",
   "metadata": {},
   "outputs": [
    {
     "name": "stdout",
     "output_type": "stream",
     "text": [
      "Shape:  (3376666, 12)\n",
      "Ilość stacji w odfiltrowanych hydro danych:  719\n"
     ]
    }
   ],
   "source": [
    "print(\"Shape: \", filtered_df_2.shape)\n",
    "print(\"Ilość stacji w odfiltrowanych hydro danych: \",filtered_df_2[\"Station Code\"].nunique())"
   ]
  },
  {
   "cell_type": "markdown",
   "id": "7a2d899c-300f-4b99-943e-464a572ba582",
   "metadata": {},
   "source": [
    "### Mapowanie Kodów \n",
    "\n",
    "Stan wody 9999 oznacza brak danych w bazie.\n",
    "\n",
    "Przepływ 99999.999 oznacza, że przepływ w tym dniu nie był opracowywany.\n",
    "\n",
    "Temperatura 99.9 oznacza brak danych w bazie, która może wynikać np. z braku pomiarów temperatury na stacji."
   ]
  },
  {
   "cell_type": "code",
   "execution_count": 18,
   "id": "8c01c2d7-9de3-47bf-9128-8c73ca3d8cb0",
   "metadata": {},
   "outputs": [
    {
     "name": "stderr",
     "output_type": "stream",
     "text": [
      "/var/folders/z9/f473nv411j13cywwsnc_vt580000gn/T/ipykernel_45035/121063041.py:1: SettingWithCopyWarning: \n",
      "A value is trying to be set on a copy of a slice from a DataFrame.\n",
      "Try using .loc[row_indexer,col_indexer] = value instead\n",
      "\n",
      "See the caveats in the documentation: https://pandas.pydata.org/pandas-docs/stable/user_guide/indexing.html#returning-a-view-versus-a-copy\n",
      "  filtered_df_2.replace({\n"
     ]
    }
   ],
   "source": [
    "filtered_df_2.replace({\n",
    "    'Water Level': {9999: np.nan},\n",
    "    'Flow': {99999.999: np.nan},\n",
    "    'Water Temp': {99.9: np.nan}\n",
    "}, inplace=True)"
   ]
  },
  {
   "cell_type": "markdown",
   "id": "7aa04368-5408-46b1-a207-0745a7e877ff",
   "metadata": {},
   "source": [
    "Eksportujemy odfiltrowane dane do static_data.\n",
    "\n",
    "W efekcie mamy spójne dane zaczynające się od 2010 i z lokalizacją i z zmapowanymi wartościami brakującymi."
   ]
  },
  {
   "cell_type": "code",
   "execution_count": 20,
   "id": "d80b2e0c-332c-40f8-829d-3c66c6c959be",
   "metadata": {},
   "outputs": [],
   "source": [
    "filtered_df_2.to_parquet(\"../static_data/filtered_hydro_data.parquet.gzip\")"
   ]
  },
  {
   "cell_type": "markdown",
   "id": "8e036ccd-8200-4889-8163-926f782e1cb3",
   "metadata": {},
   "source": [
    "## Dane Meteorologiczne Opadowe"
   ]
  },
  {
   "cell_type": "markdown",
   "id": "ea815c4d-5070-4bea-a2c5-eeeb329228ff",
   "metadata": {},
   "source": [
    "Dane pomiarowe"
   ]
  },
  {
   "cell_type": "code",
   "execution_count": 23,
   "id": "996ad8d5-1aa5-47d9-be61-84f8dd3a1c4a",
   "metadata": {},
   "outputs": [],
   "source": [
    "df = pd.read_parquet('../static_data/meteo_opad_data.parquet.gzip')"
   ]
  },
  {
   "cell_type": "code",
   "execution_count": 24,
   "id": "77de081f-ba9b-4b85-9325-9b0b74e51c42",
   "metadata": {},
   "outputs": [
    {
     "name": "stdout",
     "output_type": "stream",
     "text": [
      "Shape:  (1801634, 16)\n",
      "Ilość stacji meteo opadowych w danych pomiarowych:  1137\n"
     ]
    }
   ],
   "source": [
    "print(\"Shape: \", df.shape)\n",
    "print(\"Ilość stacji meteo opadowych w danych pomiarowych: \",df[\"Station Code\"].nunique())"
   ]
  },
  {
   "cell_type": "markdown",
   "id": "51c5f42a-597f-427b-9422-60ed08addc02",
   "metadata": {},
   "source": [
    "Metadane"
   ]
  },
  {
   "cell_type": "code",
   "execution_count": 26,
   "id": "e36e355e-c784-4d19-819c-05722c21bee1",
   "metadata": {},
   "outputs": [
    {
     "name": "stdout",
     "output_type": "stream",
     "text": [
      "Shape:  (766, 5)\n",
      "Ilość stacji meteo w meta danych:  766\n"
     ]
    },
    {
     "data": {
      "text/html": [
       "<div>\n",
       "<style scoped>\n",
       "    .dataframe tbody tr th:only-of-type {\n",
       "        vertical-align: middle;\n",
       "    }\n",
       "\n",
       "    .dataframe tbody tr th {\n",
       "        vertical-align: top;\n",
       "    }\n",
       "\n",
       "    .dataframe thead th {\n",
       "        text-align: right;\n",
       "    }\n",
       "</style>\n",
       "<table border=\"1\" class=\"dataframe\">\n",
       "  <thead>\n",
       "    <tr style=\"text-align: right;\">\n",
       "      <th></th>\n",
       "      <th>Station Code</th>\n",
       "      <th>Station Name</th>\n",
       "      <th>Lon</th>\n",
       "      <th>Lat</th>\n",
       "      <th>geometry</th>\n",
       "    </tr>\n",
       "  </thead>\n",
       "  <tbody>\n",
       "    <tr>\n",
       "      <th>0</th>\n",
       "      <td>252210290</td>\n",
       "      <td>RYBIENKO</td>\n",
       "      <td>21.429167</td>\n",
       "      <td>52.577778</td>\n",
       "      <td>POINT (664545.901 526326.119)</td>\n",
       "    </tr>\n",
       "    <tr>\n",
       "      <th>1</th>\n",
       "      <td>351230497</td>\n",
       "      <td>WŁODAWA</td>\n",
       "      <td>23.529444</td>\n",
       "      <td>51.553333</td>\n",
       "      <td>POINT (813865.629 419371.773)</td>\n",
       "    </tr>\n",
       "    <tr>\n",
       "      <th>2</th>\n",
       "      <td>352220385</td>\n",
       "      <td>SIEDLCE</td>\n",
       "      <td>22.244722</td>\n",
       "      <td>52.181111</td>\n",
       "      <td>POINT (721755.946 484409.713)</td>\n",
       "    </tr>\n",
       "    <tr>\n",
       "      <th>3</th>\n",
       "      <td>250240010</td>\n",
       "      <td>STRZYŻÓW</td>\n",
       "      <td>24.035556</td>\n",
       "      <td>50.840000</td>\n",
       "      <td>POINT (854357.945 342430.384)</td>\n",
       "    </tr>\n",
       "    <tr>\n",
       "      <th>4</th>\n",
       "      <td>352230399</td>\n",
       "      <td>TERESPOL</td>\n",
       "      <td>23.621944</td>\n",
       "      <td>52.078611</td>\n",
       "      <td>POINT (816563.802 478131.955)</td>\n",
       "    </tr>\n",
       "  </tbody>\n",
       "</table>\n",
       "</div>"
      ],
      "text/plain": [
       "   Station Code Station Name        Lon        Lat  \\\n",
       "0     252210290     RYBIENKO  21.429167  52.577778   \n",
       "1     351230497      WŁODAWA  23.529444  51.553333   \n",
       "2     352220385      SIEDLCE  22.244722  52.181111   \n",
       "3     250240010     STRZYŻÓW  24.035556  50.840000   \n",
       "4     352230399     TERESPOL  23.621944  52.078611   \n",
       "\n",
       "                        geometry  \n",
       "0  POINT (664545.901 526326.119)  \n",
       "1  POINT (813865.629 419371.773)  \n",
       "2  POINT (721755.946 484409.713)  \n",
       "3  POINT (854357.945 342430.384)  \n",
       "4  POINT (816563.802 478131.955)  "
      ]
     },
     "execution_count": 26,
     "metadata": {},
     "output_type": "execute_result"
    }
   ],
   "source": [
    "gdf = get_meteo_metadata()\n",
    "print(\"Shape: \", gdf.shape)\n",
    "print(\"Ilość stacji meteo w meta danych: \",gdf[\"Station Code\"].nunique())\n",
    "gdf.head()"
   ]
  },
  {
   "cell_type": "markdown",
   "id": "b4b65ba7-b34c-42a5-8085-feaa2ab6b2d9",
   "metadata": {},
   "source": [
    "## Wstępna selekcja danych meteorologicznych\n",
    "\n",
    "Wybieramy stacje które:\n",
    "\n",
    "1. Rozpoczęły pomiary przed lub w 2010 roku.\n",
    "2. Można zmapować do ich lokalizacji."
   ]
  },
  {
   "cell_type": "code",
   "execution_count": 28,
   "id": "603fcf60-b660-4905-aacb-35d19f0b3538",
   "metadata": {},
   "outputs": [],
   "source": [
    "valid_stations = df.groupby(\"Station Code\")[\"Year\"].min()\n",
    "valid_stations = valid_stations[valid_stations <= 2010].index\n",
    "\n",
    "filtered_df = df[df[\"Station Code\"].isin(valid_stations)]"
   ]
  },
  {
   "cell_type": "code",
   "execution_count": 29,
   "id": "bfef26f9-058d-4504-a7d8-d90751ac3b98",
   "metadata": {},
   "outputs": [
    {
     "name": "stdout",
     "output_type": "stream",
     "text": [
      "Ilość stacji w odfiltrowanych (filtracja czasowa) meteo danych:  958\n"
     ]
    }
   ],
   "source": [
    "print(\"Ilość stacji w odfiltrowanych (filtracja czasowa) meteo danych: \",filtered_df[\"Station Code\"].nunique())"
   ]
  },
  {
   "cell_type": "code",
   "execution_count": 30,
   "id": "a27ee1a4-c68c-4660-a460-1d794637d8d8",
   "metadata": {},
   "outputs": [],
   "source": [
    "valid_stations = gdf['Station Code']\n",
    "\n",
    "filtered_df_2 = filtered_df[filtered_df[\"Station Code\"].isin(valid_stations)]"
   ]
  },
  {
   "cell_type": "code",
   "execution_count": 31,
   "id": "913e49d7-a57c-4be1-b4fc-118638e07640",
   "metadata": {},
   "outputs": [
    {
     "name": "stdout",
     "output_type": "stream",
     "text": [
      "Shape:  (605780, 16)\n",
      "Ilość stacji w odfiltrowanych meteo danych:  274\n"
     ]
    }
   ],
   "source": [
    "print(\"Shape: \", filtered_df_2.shape)\n",
    "print(\"Ilość stacji w odfiltrowanych meteo danych: \",filtered_df_2[\"Station Code\"].nunique())"
   ]
  },
  {
   "cell_type": "code",
   "execution_count": 32,
   "id": "fdd807f4-b6f7-4ebf-9ba6-108ec574e7d0",
   "metadata": {},
   "outputs": [
    {
     "name": "stderr",
     "output_type": "stream",
     "text": [
      "/var/folders/z9/f473nv411j13cywwsnc_vt580000gn/T/ipykernel_45035/3497555919.py:4: SettingWithCopyWarning: \n",
      "A value is trying to be set on a copy of a slice from a DataFrame.\n",
      "Try using .loc[row_indexer,col_indexer] = value instead\n",
      "\n",
      "See the caveats in the documentation: https://pandas.pydata.org/pandas-docs/stable/user_guide/indexing.html#returning-a-view-versus-a-copy\n",
      "  filtered_df_2['Calendar Date'] = pd.to_datetime(date_str, errors='coerce')\n"
     ]
    }
   ],
   "source": [
    "date_str = filtered_df_2['Year'].astype(str) + '-' + \\\n",
    "                        filtered_df_2['Month'].astype(str).str.zfill(2) + '-' + \\\n",
    "                        filtered_df_2['Day'].astype(str).str.zfill(2)\n",
    "filtered_df_2['Calendar Date'] = pd.to_datetime(date_str, errors='coerce')"
   ]
  },
  {
   "cell_type": "markdown",
   "id": "2e503c2a-8ab4-47cc-a6b7-fc311ffbe9a3",
   "metadata": {},
   "source": [
    "### Weryfikacja statusów"
   ]
  },
  {
   "cell_type": "markdown",
   "id": "219a1c95-0274-4a6c-be42-675ea0d3f1b4",
   "metadata": {},
   "source": [
    "Oznaczaenia w kolumnach status:\n",
    "- 8 - brak pomiaru \n",
    "- 9 - brak zjawiska"
   ]
  },
  {
   "cell_type": "code",
   "execution_count": 35,
   "id": "1e180aee-bc8a-4e1a-8552-2bd450dab833",
   "metadata": {},
   "outputs": [
    {
     "data": {
      "text/plain": [
       "array([0.])"
      ]
     },
     "execution_count": 35,
     "metadata": {},
     "output_type": "execute_result"
    }
   ],
   "source": [
    "filtered_df_2.loc[filtered_df_2['SMDB Measurement Status']==8, 'Daily Precip Sum'].unique()"
   ]
  },
  {
   "cell_type": "markdown",
   "id": "55a54a79-f84e-48a8-9b52-203c6d687daa",
   "metadata": {},
   "source": [
    "8 w kolumnie ze statusem pomiaru opadu oznacza brak pomiaru, a w kolumnie z sumą opadów są 0, co sugeruje brak zjawiska.\n",
    "Zamianiamy 0 w kolumnach z pomiarami na Nan, gdy według kolumn ze statusami, nie wykonano pomairu."
   ]
  },
  {
   "cell_type": "code",
   "execution_count": 37,
   "id": "03368789-a12d-48a4-9ecc-98d3cb45d8dd",
   "metadata": {},
   "outputs": [],
   "source": [
    "filtered_df_2.loc[filtered_df_2['SMDB Measurement Status']== 8,'Daily Precip Sum'] = np.nan\n",
    "filtered_df_2.loc[filtered_df_2['PKSN Measurement Status']== 8,'Snow Cover Height'] = np.nan\n",
    "filtered_df_2.loc[filtered_df_2['HSS Measurement Status']== 8,'Fresh Snow Height'] = np.nan"
   ]
  },
  {
   "cell_type": "markdown",
   "id": "cadd4d60-3aa2-4e67-8ac7-e527adcfaf57",
   "metadata": {},
   "source": [
    "Ze względu na brak zastosowania usuwamy kolumny z infomracjami o gatunku śniegu i rodzaj pokrywy śnieżej.\n",
    "Usuwamy także kolmy ze statusami, ponieważ te same informacje zostały już zawarte w kolumnach z wartościami pomiarów."
   ]
  },
  {
   "cell_type": "code",
   "execution_count": 39,
   "id": "0bd55ae3-e326-4dd6-b0b5-ac9257563811",
   "metadata": {},
   "outputs": [
    {
     "name": "stderr",
     "output_type": "stream",
     "text": [
      "/var/folders/z9/f473nv411j13cywwsnc_vt580000gn/T/ipykernel_45035/885459402.py:1: SettingWithCopyWarning: \n",
      "A value is trying to be set on a copy of a slice from a DataFrame\n",
      "\n",
      "See the caveats in the documentation: https://pandas.pydata.org/pandas-docs/stable/user_guide/indexing.html#returning-a-view-versus-a-copy\n",
      "  filtered_df_2.drop(columns = ['SMDB Measurement Status', 'PKSN Measurement Status',\n"
     ]
    }
   ],
   "source": [
    "filtered_df_2.drop(columns = ['SMDB Measurement Status', 'PKSN Measurement Status', \n",
    "       'HSS Measurement Status', 'Snow Type', 'GATS Measurement Status',\n",
    "       'Snow Cover Type', 'RPSN Measurement Status'], inplace = True)"
   ]
  },
  {
   "cell_type": "markdown",
   "id": "56a32a82-4df4-4a5f-b081-6ee70c232a09",
   "metadata": {},
   "source": [
    "Eksportujemy odfiltrowane dane do static_data."
   ]
  },
  {
   "cell_type": "code",
   "execution_count": 41,
   "id": "86526d64-e28c-4775-90ea-11c27cd8c5ee",
   "metadata": {},
   "outputs": [],
   "source": [
    "filtered_df_2.to_parquet(\"../static_data/filtered_meteo_opad_data.parquet.gzip\")"
   ]
  }
 ],
 "metadata": {
  "kernelspec": {
   "display_name": "Python 3 (ipykernel)",
   "language": "python",
   "name": "python3"
  },
  "language_info": {
   "codemirror_mode": {
    "name": "ipython",
    "version": 3
   },
   "file_extension": ".py",
   "mimetype": "text/x-python",
   "name": "python",
   "nbconvert_exporter": "python",
   "pygments_lexer": "ipython3",
   "version": "3.12.4"
  }
 },
 "nbformat": 4,
 "nbformat_minor": 5
}
