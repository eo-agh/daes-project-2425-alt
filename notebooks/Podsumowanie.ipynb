{
 "cells": [
  {
   "cell_type": "markdown",
   "id": "ed6bbd6d-488f-4f09-8c21-aa114a298166",
   "metadata": {},
   "source": [
    "# Podsumowanie Projektu\n"
   ]
  },
  {
   "cell_type": "markdown",
   "id": "3a960bae-f44c-4d26-897d-d0361b489c6a",
   "metadata": {},
   "source": [
    "### 1. Pobranie Danych\n",
    "Dane zostały pobrane ze strony IMGW za pomocą API. Pobrano dwa zestawy danych Hydrologicznych oraz Meteorologicznych (opadowych) z lat 2010-2023."
   ]
  },
  {
   "cell_type": "markdown",
   "id": "3ae6a1dc-4b6a-48a8-9246-a01f31b4da07",
   "metadata": {},
   "source": [
    "### 2. Przegląd Danych\n",
    "Wczytano dane. Zidentyfikowano braki w roku 2023, co zostało rozwiązane poprzez przycięcie danych do 2022 roku.  Zaobserwowano wiele braków pomiarów zarówno dla stacji meteorologicznych jak i hydrologicznych na wybranym zakresie. Co więcej część stacji nie działa przez pełen okres (np. została otwarta po 2010 roku). Porównując ilość stacji hydrologicznych i meteorologicznych okazało się, że stacji hydrologicznych jest więcej."
   ]
  },
  {
   "cell_type": "markdown",
   "id": "6a547332-269f-44e4-95d2-fb7df54facf7",
   "metadata": {},
   "source": [
    "### 3. Preprocessing\n",
    "Spośród wszystkich stacji w danych pomiarowych wykluczono te, które nie posiadały położenia. Dane hydrologiczne opisane były za pomocą roku hydrologicznego, dlatego do danych została dodana informacja o roku kalendarzowym, który wykorzystano do odpowiedniego ograniczenia zakresu danych (2010-2022). Następnie zostały wybrane pomiary ze stacji, które rozpoczęły pracę przed lub 2010 roku. Dla danych hydrologicznych, które były zakodowane zmapowano na wartości brakujące opierając się na dokumentacji udostępnionej przez IMGW. Natomiast dla danych meteorologicznych na podstawie kodów zapisanych w kolumnach status zostały dostosowane wartości w kolumnach z pomiarami (wartości brakujące na wartość Nan)."
   ]
  },
  {
   "cell_type": "markdown",
   "id": "840c90b6-4990-49df-8b4b-38efd9fbb586",
   "metadata": {},
   "source": [
    "### 4. Mapy | Zlewnie\n",
    "\n",
    "#### get_xxxx_metadata\n",
    "Pobieranie Meta Danych o Stacjach, czyli ich lokalizacji i informacji o nich. Odbywa się poprzez get_hydro_metadata | get_meteo_metadata. <br> \n",
    "Zdefiniowane są w imgw_api.py. Funkcje są parametryzowane jednym argumentem \"filtered\", służy do pobierania danych albo przefiltrowanych na podstawie danych pomairowych albo wszystkich. <br>\n",
    "\n",
    "#### zlewnie\n",
    "\n",
    "Zlewnie zostały pobrane poprzez API w programie QGIS, następnie warstwa została wyeksportowana do pliku zlewnie_2.gpkg (wszystkie pliki statycznie znajdują się w folderze static_data) <br>\n",
    "Zlewnie zostały wykorzystane jako podział przestrzenny do agregacji stacji pomiarowych. Zlewnie, wystają poza granice Polski a ich powierzchnia jest większa o 30 tyś km2 większa niż Polski. Zlewni (na poziomie 2) jest 58.<br>\n",
    "\n",
    "#### Maps\n",
    "\n",
    "Notatnik Maps, jest wstępną eksploracyjną analizą danych przestrzennych. Na początku użyto województw jako podziału do agregacji (było to przed pomysłem zlewni). <br>\n",
    "Uznano, że województwa nie są dobrym podziałem do analizy hydrologicznej, dlatego zdecydowana sie wykorzystać zlewnie na poziomie 2. <br>"
   ]
  },
  {
   "cell_type": "markdown",
   "id": "48e95386-5a4e-4c92-a9bd-89daa07c764f",
   "metadata": {},
   "source": [
    "### 5. Statystyka Przestrzenna \n",
    "\n",
    "#### Tymek_Maps_23.05\n",
    "\n",
    "Jest to notatnik z  rozwinięciem i standaryzacja statystyki przestrzennej stacji na poziomie zlewni. <br>\n",
    "Funkcja plot_zlewnie_stat - zdefiniowana w utils_maps.py, pozwala na szybką i zgrabną reprezentację statystyk na poziomie zlewni. <br>\n",
    "W notatniku są przedstawione ilość stacji oraz zagęszczenie stacji hydro i meteo, aczkolwiek można dodać wiele innych statystyk. Pod warunkiem, że można je zdefiniować za pomocą jednej liczby."
   ]
  },
  {
   "cell_type": "markdown",
   "id": "774fc5c5-6583-49ec-9657-f82f53d474ed",
   "metadata": {},
   "source": [
    "### 6. Analiza Lagu \n",
    "\n",
    "#### Tymek_Analiza.ipynb\n",
    "\n",
    "W notatniku powstała koncepcja \"analizy lagu\". Na początku odbywało się to na poziomie agregacji - zlewnia, gdzie lag był liczony na średnim poziomie wody i średnich opadach w obrębie całej zlewni. Zwizualizowano znormalizowane poziomy i opadów, gdzie zaobserwowano pierwszy raz przesunięcie obu pomiarów względem siebie w czasie \"lag\".\n",
    "\n",
    "W notatniku można sobie poobserwować, zależności w różnych zlewniach zmieniając jedynie parametr \"id\", oznaczający id zlewni.\n",
    "\n",
    "Końcowo, w Mapie Lagu, lagi były liczone na poziomie pojedynczych stacji."
   ]
  },
  {
   "cell_type": "markdown",
   "id": "b2f20630-10b8-4cc7-97e9-0fad90a22dfb",
   "metadata": {},
   "source": [
    "### 7. Mapa Lagu \n",
    "Zweryfikowano ilość brakujących danych dla każdej ze stacji.  W celu zminimalizowania braków dane zostały przycięte do końca 2014 roku, ponieważ pozwoliło to na uzyskanie mniej niż 50% brakujących danych dla większości stacji pomiarowych. Następnie za pomocą interpolacji uzupełniono brakujące wartości. Dla każdej stacji hydrologicznej dopasowano najbliższą stację meteorologiczną w obrębie zlewni. Dla każdej powstałej pary stacji sprawdzono dla jakiego przesunięcia występuje najwyższa korelacja w celu znalezienia najlepszej wartości lagu. Wartości korelacji dla poszczególnych opóźnień zostały przedstawione na interaktywnej mapie hipsometrycznej. Na drugiej mapie przedstawiono najlepsze wartości lagu (wartości opóźnień, dla których występowała najwyższa korelacja) dla każdej stacji pomiarowej.  Na koniec obliczono sumę krocząca wartości opadów z trzech ostatnich dni. Policzono wartości korelacji otrzymanej sumy i poziomu wody dla poszczególnych opóźnień, która została zwizualizowana na interaktywnej mapie. "
   ]
  }
 ],
 "metadata": {
  "kernelspec": {
   "display_name": "Python 3 (ipykernel)",
   "language": "python",
   "name": "python3"
  },
  "language_info": {
   "codemirror_mode": {
    "name": "ipython",
    "version": 3
   },
   "file_extension": ".py",
   "mimetype": "text/x-python",
   "name": "python",
   "nbconvert_exporter": "python",
   "pygments_lexer": "ipython3",
   "version": "3.11.11"
  }
 },
 "nbformat": 4,
 "nbformat_minor": 5
}
