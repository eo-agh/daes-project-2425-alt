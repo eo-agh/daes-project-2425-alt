{
 "cells": [
  {
   "cell_type": "markdown",
   "id": "ed6bbd6d-488f-4f09-8c21-aa114a298166",
   "metadata": {},
   "source": [
    "# Podsumowanie Projektu\n"
   ]
  },
  {
   "cell_type": "markdown",
   "id": "3a960bae-f44c-4d26-897d-d0361b489c6a",
   "metadata": {},
   "source": [
    "### 1. Pobranie Danych"
   ]
  },
  {
   "cell_type": "markdown",
   "id": "3ae6a1dc-4b6a-48a8-9246-a01f31b4da07",
   "metadata": {},
   "source": [
    "### 2. Przegląd Danych"
   ]
  },
  {
   "cell_type": "markdown",
   "id": "6a547332-269f-44e4-95d2-fb7df54facf7",
   "metadata": {},
   "source": [
    "### 3. Preprocessing"
   ]
  },
  {
   "cell_type": "markdown",
   "id": "840c90b6-4990-49df-8b4b-38efd9fbb586",
   "metadata": {},
   "source": [
    "### 4. Mapy | Zlewnie"
   ]
  },
  {
   "cell_type": "markdown",
   "id": "48e95386-5a4e-4c92-a9bd-89daa07c764f",
   "metadata": {},
   "source": [
    "### 5. Statystyka Przestrzenna "
   ]
  },
  {
   "cell_type": "markdown",
   "id": "774fc5c5-6583-49ec-9657-f82f53d474ed",
   "metadata": {},
   "source": [
    "### 6. Analiza Lagu "
   ]
  },
  {
   "cell_type": "markdown",
   "id": "b2f20630-10b8-4cc7-97e9-0fad90a22dfb",
   "metadata": {},
   "source": [
    "### 7. Mapa Lagu "
   ]
  },
  {
   "cell_type": "code",
   "execution_count": null,
   "id": "02bd4886-0cd2-4811-b757-2ad33eab210a",
   "metadata": {},
   "outputs": [],
   "source": []
  },
  {
   "cell_type": "code",
   "execution_count": null,
   "id": "95e3c481-d99b-4222-bd0f-9e44e253aca5",
   "metadata": {},
   "outputs": [],
   "source": []
  }
 ],
 "metadata": {
  "kernelspec": {
   "display_name": "Python 3 (ipykernel)",
   "language": "python",
   "name": "python3"
  },
  "language_info": {
   "codemirror_mode": {
    "name": "ipython",
    "version": 3
   },
   "file_extension": ".py",
   "mimetype": "text/x-python",
   "name": "python",
   "nbconvert_exporter": "python",
   "pygments_lexer": "ipython3",
   "version": "3.11.11"
  }
 },
 "nbformat": 4,
 "nbformat_minor": 5
}
