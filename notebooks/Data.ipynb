{
 "cells": [
  {
   "cell_type": "code",
   "execution_count": 1,
   "id": "0d7b0ab5-cf31-4545-9a5c-93d7b281ea1e",
   "metadata": {},
   "outputs": [
    {
     "name": "stdout",
     "output_type": "stream",
     "text": [
      "   Station Code Station Name      Name  Hydro Year  Hydro Month  Day  \\\n",
      "0     149180020     CHA£UPKI  Odra (1)        2022            1    1   \n",
      "1     149180020     CHA£UPKI  Odra (1)        2022            1    2   \n",
      "2     149180020     CHA£UPKI  Odra (1)        2022            1    3   \n",
      "3     149180020     CHA£UPKI  Odra (1)        2022            1    4   \n",
      "4     149180020     CHA£UPKI  Odra (1)        2022            1    5   \n",
      "\n",
      "   Water Level  Flow  Water Temp  Calendar Month  \n",
      "0           78  10.1        99.9              11  \n",
      "1           84  12.1        99.9              11  \n",
      "2           85  12.2        99.9              11  \n",
      "3           84  12.1        99.9              11  \n",
      "4           85  12.3        99.9              11  \n"
     ]
    }
   ],
   "source": [
    "from imgw_api import get_hydro_data\n",
    "\n",
    "first_year = 2022\n",
    "last_year = 2023\n",
    "\n",
    "hydro_data = get_hydro_data(first_year, last_year)\n",
    "\n",
    "print(hydro_data.head())"
   ]
  }
 ],
 "metadata": {
  "kernelspec": {
   "display_name": "Python [conda env:base] *",
   "language": "python",
   "name": "conda-base-py"
  },
  "language_info": {
   "codemirror_mode": {
    "name": "ipython",
    "version": 3
   },
   "file_extension": ".py",
   "mimetype": "text/x-python",
   "name": "python",
   "nbconvert_exporter": "python",
   "pygments_lexer": "ipython3",
   "version": "3.12.7"
  }
 },
 "nbformat": 4,
 "nbformat_minor": 5
}
