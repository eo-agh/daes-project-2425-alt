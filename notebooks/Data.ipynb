{
 "cells": [
  {
   "cell_type": "markdown",
   "id": "7357a39b-041c-4385-9dc1-0f2452a82e35",
   "metadata": {},
   "source": [
    "### Zapisanie danych do formatu Parquet\n",
    "\n",
    "Plik Archiwalny"
   ]
  },
  {
   "cell_type": "code",
   "execution_count": 7,
   "id": "e0bf4e19-2254-4688-994a-a52ae2e26f9d",
   "metadata": {},
   "outputs": [
    {
     "name": "stdout",
     "output_type": "stream",
     "text": [
      "   Station Code Station Name      Name  Hydro Year  Hydro Month  Day  \\\n",
      "0     149180020     CHA£UPKI  Odra (1)        2010            1    1   \n",
      "1     149180020     CHA£UPKI  Odra (1)        2010            1    2   \n",
      "2     149180020     CHA£UPKI  Odra (1)        2010            1    3   \n",
      "3     149180020     CHA£UPKI  Odra (1)        2010            1    4   \n",
      "4     149180020     CHA£UPKI  Odra (1)        2010            1    5   \n",
      "\n",
      "   Water Level  Flow  Water Temp  Calendar Month  \n",
      "0          158  30.8        99.9              11  \n",
      "1          154  28.5        99.9              11  \n",
      "2          150  26.0        99.9              11  \n",
      "3          149  25.4        99.9              11  \n",
      "4          149  25.9        99.9              11  \n",
      "   Station Code Station Name  Year  Month  Day  Max Daily Temp  TMAX Status  \\\n",
      "0     354150100    KO£OBRZEG  2010      1    1            -0.2          NaN   \n",
      "1     354150100    KO£OBRZEG  2010      1    2             0.5          NaN   \n",
      "2     354150100    KO£OBRZEG  2010      1    3            -0.5          NaN   \n",
      "3     354150100    KO£OBRZEG  2010      1    4            -2.5          NaN   \n",
      "4     354150100    KO£OBRZEG  2010      1    5            -3.0          NaN   \n",
      "\n",
      "   Min Daily Temp  TMIN Status  Avg Daily Temp  ...  Snow Cover Status  \\\n",
      "0            -2.5          NaN            -1.1  ...                NaN   \n",
      "1            -2.1          NaN            -1.1  ...                NaN   \n",
      "2            -3.5          NaN            -1.9  ...                NaN   \n",
      "3            -6.5          NaN            -5.1  ...                NaN   \n",
      "4            -6.0          NaN            -4.3  ...                NaN   \n",
      "\n",
      "   Lightning Occurrence  Lightning Status  Ground Condition  Lower Isotherm  \\\n",
      "0                     0               NaN               NaN               0   \n",
      "1                     0               NaN               NaN               0   \n",
      "2                     0               NaN               NaN               0   \n",
      "3                     0               NaN               NaN               0   \n",
      "4                     0               NaN               NaN               0   \n",
      "\n",
      "  Lower Isotherm Status  Upper Isotherm  Upper Isotherm Status  Actinometry  \\\n",
      "0                   8.0               0                    8.0            0   \n",
      "1                   8.0               0                    8.0            0   \n",
      "2                   8.0               0                    8.0            0   \n",
      "3                   8.0               0                    8.0            0   \n",
      "4                   8.0               0                    8.0            0   \n",
      "\n",
      "   Actinometry Status  \n",
      "0                 8.0  \n",
      "1                 8.0  \n",
      "2                 8.0  \n",
      "3                 8.0  \n",
      "4                 8.0  \n",
      "\n",
      "[5 rows x 65 columns]\n"
     ]
    }
   ],
   "source": [
    "from imgw_api import get_hydro_data, get_meteo_data\n",
    "\n",
    "hydro_df = get_hydro_data(2010,2023)\n",
    "meteo_df = get_meteo_data(2010,2023)\n",
    "    \n",
    "print(hydro_df.head())\n",
    "print(meteo_df.head())\n",
    "\n",
    "hydro_df.to_parquet('hydro_data.parquet.gzip')\n",
    "meteo_df.to_parquet('meteo_data.parquet.gzip')"
   ]
  },
  {
   "cell_type": "code",
   "execution_count": 4,
   "id": "b53f3db8-f15e-4dab-9e65-806d54f22796",
   "metadata": {},
   "outputs": [
    {
     "name": "stdout",
     "output_type": "stream",
     "text": [
      "   Station Code Station Name  Year  Month  Day  Daily Precip Sum  \\\n",
      "0     249180020   WARSZOWICE  2010      1    1               1.1   \n",
      "1     249180020   WARSZOWICE  2010      1    2               5.1   \n",
      "2     249180020   WARSZOWICE  2010      1    3               0.6   \n",
      "3     249180020   WARSZOWICE  2010      1    4               0.3   \n",
      "4     249180020   WARSZOWICE  2010      1    5               3.3   \n",
      "\n",
      "   SMDB Measurement Status Precipitation Type  Snow Cover Height  \\\n",
      "0                      NaN                  S                  0   \n",
      "1                      NaN                  S                  0   \n",
      "2                      NaN                  S                  0   \n",
      "3                      NaN                  S                  0   \n",
      "4                      NaN                  S                  0   \n",
      "\n",
      "   PKSN Measurement Status  Fresh Snow Height  HSS Measurement Status  \\\n",
      "0                      8.0                  0                     8.0   \n",
      "1                      8.0                  0                     8.0   \n",
      "2                      8.0                  0                     8.0   \n",
      "3                      8.0                  0                     8.0   \n",
      "4                      8.0                  0                     8.0   \n",
      "\n",
      "   Snow Type  GATS Measurement Status Snow Cover Type  RPSN Measurement Status  \n",
      "0        NaN                      8.0             NaN                      8.0  \n",
      "1        NaN                      8.0             NaN                      8.0  \n",
      "2        NaN                      8.0             NaN                      8.0  \n",
      "3        NaN                      8.0             NaN                      8.0  \n",
      "4        NaN                      8.0             NaN                      8.0  \n"
     ]
    }
   ],
   "source": [
    "from imgw_api import get_meteo_data_opad\n",
    "\n",
    "meteo_opad_df = get_meteo_data_opad(2010,2022)\n",
    "\n",
    "print(meteo_opad_df.head())\n",
    "meteo_opad_df.to_parquet('meteo_opad_data.parquet.gzip')"
   ]
  }
 ],
 "metadata": {
  "kernelspec": {
   "display_name": "Python [conda env:base] *",
   "language": "python",
   "name": "conda-base-py"
  },
  "language_info": {
   "codemirror_mode": {
    "name": "ipython",
    "version": 3
   },
   "file_extension": ".py",
   "mimetype": "text/x-python",
   "name": "python",
   "nbconvert_exporter": "python",
   "pygments_lexer": "ipython3",
   "version": "3.12.2"
  }
 },
 "nbformat": 4,
 "nbformat_minor": 5
}
