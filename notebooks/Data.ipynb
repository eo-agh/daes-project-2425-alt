{
 "cells": [
  {
   "cell_type": "markdown",
   "id": "c0bd57af-2ffc-4f03-b25c-cd0f123571a2",
   "metadata": {
    "editable": true,
    "slideshow": {
     "slide_type": ""
    },
    "tags": []
   },
   "source": [
    "### Wybór zakresu lat arbitralny: 2010 - 2023\n",
    "\n",
    "- za długo mi wczytywało z api, więc wczytam z static data ten sam zbiór danych"
   ]
  },
  {
   "cell_type": "code",
   "execution_count": 2,
   "id": "3b2237d2-910e-41c6-964f-8c69cc811cc5",
   "metadata": {
    "editable": true,
    "slideshow": {
     "slide_type": ""
    },
    "tags": []
   },
   "outputs": [],
   "source": [
    "# from imgw_api import get_hydro_data\n",
    "\n",
    "# first_year = 2010\n",
    "# last_year = 2023\n",
    "\n",
    "# hydro_data = get_hydro_data(first_year, last_year)\n",
    "\n",
    "# hydro_data.head()"
   ]
  },
  {
   "cell_type": "code",
   "execution_count": null,
   "id": "2f062ff9-5532-453e-884a-b97b4d802d96",
   "metadata": {},
   "outputs": [],
   "source": [
    "hydro_data"
   ]
  },
  {
   "cell_type": "code",
   "execution_count": null,
   "id": "c504bcbd-62c0-43f0-8291-2c46c8b39344",
   "metadata": {},
   "outputs": [],
   "source": [
    "from imgw_api import get_hydro_metadata\n",
    "\n",
    "hydro_meta = get_hydro_metadata()"
   ]
  },
  {
   "cell_type": "code",
   "execution_count": null,
   "id": "e070349d-4c7e-43eb-8f91-8b24122f1fb5",
   "metadata": {},
   "outputs": [],
   "source": [
    "hydro_meta.head()"
   ]
  },
  {
   "cell_type": "code",
   "execution_count": null,
   "id": "ecbd6495-e242-4c79-862e-3415069e6856",
   "metadata": {},
   "outputs": [],
   "source": [
    "hydro_meta.columns = [\"Station Code\",\"Station Name\",\"Lon\",\"Lat\",\"geometry\"] "
   ]
  },
  {
   "cell_type": "code",
   "execution_count": null,
   "id": "e8f6704d-7c41-4d13-95cd-fc4a79f72132",
   "metadata": {},
   "outputs": [],
   "source": [
    "hydro_meta"
   ]
  },
  {
   "cell_type": "code",
   "execution_count": null,
   "id": "9cc147b7-1950-4e4f-b90d-0b061696b19f",
   "metadata": {},
   "outputs": [],
   "source": [
    "hydro_data_stations = hydro_data['Station Code'].unique()\n",
    "hydro_metadata_stations = hydro_meta['kod_stacji'].unique()\n",
    "print(f\"Jest {len(hydro_metadata_stations)} stacji w meta danych i {len(hydro_data_stations)} stacji w danych pomiarowych\") "
   ]
  },
  {
   "cell_type": "code",
   "execution_count": null,
   "id": "8e22836f-97d0-4843-a6d1-12927f6661a0",
   "metadata": {},
   "outputs": [],
   "source": [
    "station_intersection =  list(set(hydro_data_stations) & set(hydro_metadata_stations))\n",
    "print(f\"Tyle stacji się matchuje w obu zbiorach {len(station_intersection)}\")"
   ]
  },
  {
   "cell_type": "code",
   "execution_count": null,
   "id": "299ff488-5665-4bda-8d69-a788b7c4cf7e",
   "metadata": {
    "editable": true,
    "slideshow": {
     "slide_type": ""
    },
    "tags": []
   },
   "outputs": [],
   "source": [
    "hydro_meta_filtered = hydro_meta[hydro_meta['kod_stacji'].isin(station_intersection)]\n",
    "hydro_meta_filtered"
   ]
  }
 ],
 "metadata": {
  "kernelspec": {
   "display_name": "Python 3 (ipykernel)",
   "language": "python",
   "name": "python3"
  },
  "language_info": {
   "codemirror_mode": {
    "name": "ipython",
    "version": 3
   },
   "file_extension": ".py",
   "mimetype": "text/x-python",
   "name": "python",
   "nbconvert_exporter": "python",
   "pygments_lexer": "ipython3",
   "version": "3.11.6"
  }
 },
 "nbformat": 4,
 "nbformat_minor": 5
}
