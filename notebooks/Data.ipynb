{
 "cells": [
  {
   "cell_type": "code",
   "execution_count": 3,
   "id": "3b2237d2-910e-41c6-964f-8c69cc811cc5",
   "metadata": {},
   "outputs": [
    {
     "name": "stdout",
     "output_type": "stream",
     "text": [
      "   Station Code        Station Name  Year  Month  Day  Max Daily Temp  \\\n",
      "0     354150100  KO｣OBRZEG-D集IRZYNO  2023      1    1            15.3   \n",
      "1     354150100  KO｣OBRZEG-D集IRZYNO  2023      1    2            13.7   \n",
      "2     354150100  KO｣OBRZEG-D集IRZYNO  2023      1    3             8.5   \n",
      "3     354150100  KO｣OBRZEG-D集IRZYNO  2023      1    4             9.3   \n",
      "4     354150100  KO｣OBRZEG-D集IRZYNO  2023      1    5             9.6   \n",
      "\n",
      "   TMAX Status  Min Daily Temp  TMIN Status  Avg Daily Temp  ...  \\\n",
      "0          NaN            10.3          NaN            13.1  ...   \n",
      "1          NaN             6.7          NaN             9.6  ...   \n",
      "2          NaN             2.7          NaN             5.1  ...   \n",
      "3          NaN             0.4          NaN             5.7  ...   \n",
      "4          NaN             4.1          NaN             5.8  ...   \n",
      "\n",
      "   Snow Cover Status  Lightning Occurrence  Lightning Status  \\\n",
      "0                NaN                     0               8.0   \n",
      "1                NaN                     0               8.0   \n",
      "2                NaN                     0               8.0   \n",
      "3                NaN                     0               8.0   \n",
      "4                NaN                     0               8.0   \n",
      "\n",
      "   Ground Condition  Lower Isotherm Lower Isotherm Status  Upper Isotherm  \\\n",
      "0                 R               0                   9.0               0   \n",
      "1                 R               0                   9.0               0   \n",
      "2                 R               0                   9.0               0   \n",
      "3                 R               0                   9.0               0   \n",
      "4                 R               0                   9.0               0   \n",
      "\n",
      "   Upper Isotherm Status  Actinometry  Actinometry Status  \n",
      "0                    9.0            0                   8  \n",
      "1                    9.0            0                   8  \n",
      "2                    9.0            0                   8  \n",
      "3                    9.0            0                   8  \n",
      "4                    9.0            0                   8  \n",
      "\n",
      "[5 rows x 65 columns]\n"
     ]
    }
   ],
   "source": [
    "from imgw_api import get_hydro_data, get_meteo_data\n",
    "\n",
    "\n",
    "first_year = 2023\n",
    "last_year = 2023\n",
    "\n",
    "hydro_data = get_hydro_data(first_year, last_year)\n",
    "meteo_data = get_meteo_data(first_year, last_year)\n",
    "\n",
    "print(hydro_data.head())\n",
    "print(meteo_data.head())"
   ]
  }
 ],
 "metadata": {
  "kernelspec": {
   "display_name": "Python 3 (ipykernel)",
   "language": "python",
   "name": "python3"
  },
  "language_info": {
   "codemirror_mode": {
    "name": "ipython",
    "version": 3
   },
   "file_extension": ".py",
   "mimetype": "text/x-python",
   "name": "python",
   "nbconvert_exporter": "python",
   "pygments_lexer": "ipython3",
   "version": "3.12.4"
  }
 },
 "nbformat": 4,
 "nbformat_minor": 5
}
