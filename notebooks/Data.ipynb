{
 "cells": [
  {
   "cell_type": "code",
   "execution_count": null,
   "id": "3b2237d2-910e-41c6-964f-8c69cc811cc5",
   "metadata": {},
   "outputs": [],
   "source": [
    "from imgw_api import get_hydro_data\n",
    "\n",
    "first_year = 2022\n",
    "last_year = 2023\n",
    "\n",
    "hydro_data = get_hydro_data(first_year, last_year)\n",
    "\n",
    "print(hydro_data.head())"
   ]
  }
 ],
 "metadata": {
  "kernelspec": {
   "display_name": "Python [conda env:base] *",
   "language": "python",
   "name": "conda-base-py"
  },
  "language_info": {
   "codemirror_mode": {
    "name": "ipython",
    "version": 3
   },
   "file_extension": ".py",
   "mimetype": "text/x-python",
   "name": "python",
   "nbconvert_exporter": "python",
   "pygments_lexer": "ipython3",
   "version": "3.12.7"
  }
 },
 "nbformat": 4,
 "nbformat_minor": 5
}
