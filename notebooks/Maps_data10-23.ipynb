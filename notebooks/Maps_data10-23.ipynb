{
 "cells": [
  {
   "cell_type": "code",
   "execution_count": 1,
   "id": "c23e562b-fa8c-45c4-b9f8-e115a932a282",
   "metadata": {
    "editable": true,
    "slideshow": {
     "slide_type": ""
    },
    "tags": []
   },
   "outputs": [],
   "source": [
    "import geopandas as gpd\n",
    "import pandas as pd\n",
    "import matplotlib.pyplot as plt\n",
    "import seaborn as sns\n",
    "from imgw_api import get_hydro_metadata,get_meteo_metadata\n",
    "import numpy as np"
   ]
  },
  {
   "cell_type": "code",
   "execution_count": 2,
   "id": "9076a48b-3f6d-4989-943d-435b9c061c0c",
   "metadata": {
    "editable": true,
    "slideshow": {
     "slide_type": ""
    },
    "tags": []
   },
   "outputs": [],
   "source": [
    "def get_map_wojewodztwa():\n",
    "    return gpd.read_file(\"../static_data/wojewodztwa\")"
   ]
  },
  {
   "cell_type": "code",
   "execution_count": 3,
   "id": "314fe580-4646-4ed2-bad2-d53d60a1214f",
   "metadata": {
    "editable": true,
    "slideshow": {
     "slide_type": ""
    },
    "tags": []
   },
   "outputs": [],
   "source": [
    "def get_map_rzeki():\n",
    "    return gpd.read_file(\"../static_data/Rzeki\").to_crs(\"EPSG:2180\")"
   ]
  },
  {
   "cell_type": "code",
   "execution_count": 5,
   "id": "4fd57984-bd05-40f2-acf9-352b6ed080f4",
   "metadata": {},
   "outputs": [],
   "source": [
    "# Data 2010 - 2023\n",
    "h_data = pd.read_parquet(\"../static_data/hydro_data.parquet.gzip\")\n",
    "m_data = pd.read_parquet(\"../static_data/meteo_opad_data.parquet.gzip\")"
   ]
  },
  {
   "cell_type": "code",
   "execution_count": 6,
   "id": "95169695-fba6-4b9a-9608-b000c2ec5b08",
   "metadata": {},
   "outputs": [],
   "source": [
    "gdf_h = get_hydro_metadata()\n",
    "gdf_m = get_meteo_metadata()\n",
    "woj = get_map_wojewodztwa()\n",
    "rzeki = get_map_rzeki()\n",
    "# Clip rivers to voivodeship boundary\n",
    "rzeki = gpd.clip(rzeki, woj)"
   ]
  },
  {
   "cell_type": "code",
   "execution_count": 7,
   "id": "8760eb15-e657-41a4-a949-66cdc0828cf8",
   "metadata": {},
   "outputs": [
    {
     "data": {
      "text/html": [
       "<div>\n",
       "<style scoped>\n",
       "    .dataframe tbody tr th:only-of-type {\n",
       "        vertical-align: middle;\n",
       "    }\n",
       "\n",
       "    .dataframe tbody tr th {\n",
       "        vertical-align: top;\n",
       "    }\n",
       "\n",
       "    .dataframe thead th {\n",
       "        text-align: right;\n",
       "    }\n",
       "</style>\n",
       "<table border=\"1\" class=\"dataframe\">\n",
       "  <thead>\n",
       "    <tr style=\"text-align: right;\">\n",
       "      <th></th>\n",
       "      <th>Station Code</th>\n",
       "      <th>Station Name</th>\n",
       "      <th>Lon</th>\n",
       "      <th>Lat</th>\n",
       "      <th>geometry</th>\n",
       "    </tr>\n",
       "  </thead>\n",
       "  <tbody>\n",
       "    <tr>\n",
       "      <th>0</th>\n",
       "      <td>252210290</td>\n",
       "      <td>RYBIENKO</td>\n",
       "      <td>21.429167</td>\n",
       "      <td>52.577778</td>\n",
       "      <td>POINT (664545.901 526326.119)</td>\n",
       "    </tr>\n",
       "    <tr>\n",
       "      <th>1</th>\n",
       "      <td>351230497</td>\n",
       "      <td>WŁODAWA</td>\n",
       "      <td>23.529444</td>\n",
       "      <td>51.553333</td>\n",
       "      <td>POINT (813865.629 419371.773)</td>\n",
       "    </tr>\n",
       "    <tr>\n",
       "      <th>2</th>\n",
       "      <td>352220385</td>\n",
       "      <td>SIEDLCE</td>\n",
       "      <td>22.244722</td>\n",
       "      <td>52.181111</td>\n",
       "      <td>POINT (721755.946 484409.713)</td>\n",
       "    </tr>\n",
       "    <tr>\n",
       "      <th>3</th>\n",
       "      <td>250240010</td>\n",
       "      <td>STRZYŻÓW</td>\n",
       "      <td>24.035556</td>\n",
       "      <td>50.840000</td>\n",
       "      <td>POINT (854357.945 342430.384)</td>\n",
       "    </tr>\n",
       "    <tr>\n",
       "      <th>4</th>\n",
       "      <td>352230399</td>\n",
       "      <td>TERESPOL</td>\n",
       "      <td>23.621944</td>\n",
       "      <td>52.078611</td>\n",
       "      <td>POINT (816563.802 478131.955)</td>\n",
       "    </tr>\n",
       "    <tr>\n",
       "      <th>...</th>\n",
       "      <td>...</td>\n",
       "      <td>...</td>\n",
       "      <td>...</td>\n",
       "      <td>...</td>\n",
       "      <td>...</td>\n",
       "    </tr>\n",
       "    <tr>\n",
       "      <th>761</th>\n",
       "      <td>250190850</td>\n",
       "      <td>TROKS</td>\n",
       "      <td>19.635833</td>\n",
       "      <td>50.303889</td>\n",
       "      <td>POINT (545266.654 270940.231)</td>\n",
       "    </tr>\n",
       "    <tr>\n",
       "      <th>762</th>\n",
       "      <td>252140070</td>\n",
       "      <td>BOLESZKOWICE</td>\n",
       "      <td>14.566667</td>\n",
       "      <td>52.726944</td>\n",
       "      <td>POINT (200773.192 549362.851)</td>\n",
       "    </tr>\n",
       "    <tr>\n",
       "      <th>763</th>\n",
       "      <td>252190240</td>\n",
       "      <td>TRĘBKI</td>\n",
       "      <td>19.540556</td>\n",
       "      <td>52.320278</td>\n",
       "      <td>POINT (536832.852 495059.236)</td>\n",
       "    </tr>\n",
       "    <tr>\n",
       "      <th>764</th>\n",
       "      <td>251190150</td>\n",
       "      <td>DOBRYSZYCE</td>\n",
       "      <td>19.428333</td>\n",
       "      <td>51.138889</td>\n",
       "      <td>POINT (529957.081 363656.987)</td>\n",
       "    </tr>\n",
       "    <tr>\n",
       "      <th>765</th>\n",
       "      <td>253200140</td>\n",
       "      <td>WIELBARK</td>\n",
       "      <td>20.937222</td>\n",
       "      <td>53.406111</td>\n",
       "      <td>POINT (628738.787 617420.299)</td>\n",
       "    </tr>\n",
       "  </tbody>\n",
       "</table>\n",
       "<p>766 rows × 5 columns</p>\n",
       "</div>"
      ],
      "text/plain": [
       "     Station Code  Station Name        Lon        Lat  \\\n",
       "0       252210290      RYBIENKO  21.429167  52.577778   \n",
       "1       351230497       WŁODAWA  23.529444  51.553333   \n",
       "2       352220385       SIEDLCE  22.244722  52.181111   \n",
       "3       250240010      STRZYŻÓW  24.035556  50.840000   \n",
       "4       352230399      TERESPOL  23.621944  52.078611   \n",
       "..            ...           ...        ...        ...   \n",
       "761     250190850         TROKS  19.635833  50.303889   \n",
       "762     252140070  BOLESZKOWICE  14.566667  52.726944   \n",
       "763     252190240        TRĘBKI  19.540556  52.320278   \n",
       "764     251190150    DOBRYSZYCE  19.428333  51.138889   \n",
       "765     253200140      WIELBARK  20.937222  53.406111   \n",
       "\n",
       "                          geometry  \n",
       "0    POINT (664545.901 526326.119)  \n",
       "1    POINT (813865.629 419371.773)  \n",
       "2    POINT (721755.946 484409.713)  \n",
       "3    POINT (854357.945 342430.384)  \n",
       "4    POINT (816563.802 478131.955)  \n",
       "..                             ...  \n",
       "761  POINT (545266.654 270940.231)  \n",
       "762  POINT (200773.192 549362.851)  \n",
       "763  POINT (536832.852 495059.236)  \n",
       "764  POINT (529957.081 363656.987)  \n",
       "765  POINT (628738.787 617420.299)  \n",
       "\n",
       "[766 rows x 5 columns]"
      ]
     },
     "execution_count": 7,
     "metadata": {},
     "output_type": "execute_result"
    }
   ],
   "source": [
    "gdf_m"
   ]
  },
  {
   "cell_type": "code",
   "execution_count": 8,
   "id": "2638f58e-aefb-4b33-a5b2-58a204de10f1",
   "metadata": {},
   "outputs": [
    {
     "name": "stdout",
     "output_type": "stream",
     "text": [
      "All hydro stations: 859 \n",
      "All meteo stations: 766\n"
     ]
    }
   ],
   "source": [
    "print(\"All hydro stations:\", len(gdf_h['Station Code'].unique()), \"\\nAll meteo stations:\", len(gdf_m['Station Code'].unique()))"
   ]
  },
  {
   "cell_type": "code",
   "execution_count": 9,
   "id": "a48e5429-1906-45b8-9e21-e0670d17e400",
   "metadata": {},
   "outputs": [],
   "source": [
    "h_intersect = set(np.intersect1d(h_data['Station Code'], gdf_h['Station Code']))\n",
    "m_intersect = set(np.intersect1d(m_data['Station Code'], gdf_m['Station Code']))"
   ]
  },
  {
   "cell_type": "code",
   "execution_count": 10,
   "id": "05c10c3e-7457-4d73-9e5a-744e34794bee",
   "metadata": {},
   "outputs": [],
   "source": [
    "gdf_h = gdf_h[gdf_h['Station Code'].isin(h_intersect)]\n",
    "gdf_m = gdf_m[gdf_m['Station Code'].isin(m_intersect)]"
   ]
  },
  {
   "cell_type": "code",
   "execution_count": 12,
   "id": "d462d9fa-8ca8-4a45-9d58-62f75d9a6b72",
   "metadata": {},
   "outputs": [],
   "source": [
    "h_data = h_data[h_data['Station Code'].isin(h_intersect)]\n",
    "m_data = m_data[m_data['Station Code'].isin(m_intersect)]"
   ]
  },
  {
   "cell_type": "code",
   "execution_count": 11,
   "id": "e3b03f45-f5e9-409f-ad88-f049117571ec",
   "metadata": {},
   "outputs": [
    {
     "name": "stdout",
     "output_type": "stream",
     "text": [
      "Hydro stations in 2010 - 2023 data: 749\n",
      "Meteo stations in 2010 - 2023 data: 368\n"
     ]
    }
   ],
   "source": [
    "print(\"Hydro stations in 2010 - 2023 data:\", len(gdf_h['Station Code'].unique()))\n",
    "print(\"Meteo stations in 2010 - 2023 data:\", len(gdf_m['Station Code'].unique()))"
   ]
  },
  {
   "cell_type": "code",
   "execution_count": 13,
   "id": "f5a536eb-7038-41e4-a2af-36f9aea2cb97",
   "metadata": {},
   "outputs": [
    {
     "name": "stdout",
     "output_type": "stream",
     "text": [
      "Hydro stations in 2010 - 2023 data: 749\n",
      "Meteo stations in 2010 - 2023 data: 368\n"
     ]
    }
   ],
   "source": [
    "print(\"Hydro stations in 2010 - 2023 data:\", len(h_data['Station Code'].unique()))\n",
    "print(\"Meteo stations in 2010 - 2023 data:\", len(m_data['Station Code'].unique()))"
   ]
  },
  {
   "cell_type": "code",
   "execution_count": null,
   "id": "6b5953d5-7b0e-454e-b6e2-ec763db4223b",
   "metadata": {},
   "outputs": [],
   "source": [
    "# Apply seaborn theme\n",
    "sns.set_theme(style=\"whitegrid\")\n",
    "\n",
    "# Create figure and axis\n",
    "fig, ax = plt.subplots(1, 1, figsize=(10, 10))\n",
    "\n",
    "# Plot voivodeships\n",
    "woj.plot(ax=ax, color=\"#f7f7f7\", edgecolor=\"black\", linewidth=0.8, label='Voivodeships')\n",
    "\n",
    "# Plot rivers\n",
    "rzeki.plot(ax=ax, color=\"#1f78b4\", linewidth=0.8, label='Rivers')\n",
    "\n",
    "# Plot hydro stations (triangles)\n",
    "gdf_h.plot(ax=ax, color=\"#e41a1c\", edgecolor=\"black\", marker='^', markersize=50, label='Hydro Stations')\n",
    "\n",
    "# Plot meteo stations (circles)\n",
    "gdf_m.plot(ax=ax, color=\"#377eb8\", edgecolor=\"black\", marker='o', markersize=50, label='Meteo Stations')\n",
    "\n",
    "# Title\n",
    "ax.set_title(\"Hydro and Meteo Stations in Poland with Rivers\", fontsize=16, fontweight='bold', pad=20)\n",
    "\n",
    "# Axis labels with units\n",
    "ax.set_xlabel(\"Longtitude [m]\", fontsize=12)\n",
    "ax.set_ylabel(\"Latitude [m]\", fontsize=12)\n",
    "\n",
    "# Customize ticks for readability\n",
    "ax.tick_params(labelsize=10)\n",
    "\n",
    "# Add legend\n",
    "legend = ax.legend(loc='lower left', fontsize=10, frameon=True,\n",
    "                   facecolor='white', edgecolor='black',\n",
    "                   title='Legend', title_fontsize=12)\n",
    "\n",
    "# Improve layout\n",
    "plt.tight_layout()\n",
    "plt.show()\n"
   ]
  },
  {
   "cell_type": "code",
   "execution_count": null,
   "id": "7c49f96c-8179-406c-aa24-df921c761387",
   "metadata": {},
   "outputs": [],
   "source": [
    "# Apply seaborn theme\n",
    "sns.set_theme(style=\"whitegrid\")\n",
    "\n",
    "# Create figure and axis\n",
    "fig, ax = plt.subplots(1, 1, figsize=(10, 10))\n",
    "\n",
    "# Plot voivodeships\n",
    "woj.plot(ax=ax, color=\"#f7f7f7\", edgecolor=\"black\", linewidth=0.8, label='Voivodeships')\n",
    "\n",
    "# Plot rivers\n",
    "rzeki.plot(ax=ax, color=\"#1f78b4\", linewidth=0.8, label='Rivers')\n",
    "\n",
    "# Plot hydro stations (triangles)\n",
    "gdf_h.plot(ax=ax, color=\"#e41a1c\", edgecolor=\"black\", marker='^', markersize=50, label='Hydro Stations')\n",
    "\n",
    "# Title\n",
    "ax.set_title(\"Hydro Stations in Poland with Rivers\", fontsize=16, fontweight='bold', pad=20)\n",
    "\n",
    "# Axis labels with units\n",
    "ax.set_xlabel(\"Longtitude [m]\", fontsize=12)\n",
    "ax.set_ylabel(\"Latitude [m]\", fontsize=12)\n",
    "\n",
    "# Customize ticks for readability\n",
    "ax.tick_params(labelsize=10)\n",
    "\n",
    "# Add legend\n",
    "legend = ax.legend(loc='lower left', fontsize=10, frameon=True,\n",
    "                   facecolor='white', edgecolor='black',\n",
    "                   title='Legend', title_fontsize=12)\n",
    "\n",
    "# Improve layout\n",
    "plt.tight_layout()\n",
    "plt.show()"
   ]
  },
  {
   "cell_type": "code",
   "execution_count": null,
   "id": "1687e023-9912-435d-b8d9-06f31b282c54",
   "metadata": {},
   "outputs": [],
   "source": [
    "import matplotlib as mpl\n",
    "from mpl_toolkits.axes_grid1 import make_axes_locatable\n",
    "\n",
    "# The count of station per voivodeship\n",
    "station_counts = gpd.sjoin(gdf_h, woj, how=\"inner\", predicate='within')\n",
    "counts_by_voivodeship_h = station_counts.groupby('JPT_NAZWA_').size()\n",
    "woj['hydro_count'] = woj['JPT_NAZWA_'].map(counts_by_voivodeship_h)\n",
    "\n",
    "sns.set_theme(style=\"whitegrid\")\n",
    "\n",
    "fig, ax = plt.subplots(1, 1, figsize=(10, 10))\n",
    "\n",
    "# Plot the choropleth map\n",
    "cmap = 'coolwarm'\n",
    "column = 'hydro_count'\n",
    "woj_plot = woj.plot(column=column, cmap=cmap, ax=ax, legend=False)\n",
    "\n",
    "# Create a divider for colorbar placement\n",
    "divider = make_axes_locatable(ax)\n",
    "cax = divider.append_axes(\"right\", size=\"5%\", pad=0.1)\n",
    "\n",
    "# Normalize values and create ScalarMappable\n",
    "norm = mpl.colors.Normalize(vmin=woj[column].min(), vmax=woj[column].max())\n",
    "sm = mpl.cm.ScalarMappable(cmap=cmap, norm=norm)\n",
    "sm._A = []  # Hack to make colorbar work\n",
    "\n",
    "# Create colorbar with 80% height\n",
    "cb = plt.colorbar(sm, cax=cax, orientation=\"vertical\")\n",
    "cb.ax.set_position([cb.ax.get_position().x0,\n",
    "                    cb.ax.get_position().y0 + 0.1,  # move up\n",
    "                    cb.ax.get_position().width,\n",
    "                    cb.ax.get_position().height * 0.8])  # scale height\n",
    "\n",
    "cb.set_label('Number of Hydro Stations', fontsize=12)\n",
    "\n",
    "# Title\n",
    "ax.set_title(\"Number of Hydro Stations per Voivodeship\", fontsize=16, fontweight='bold', pad=20)\n",
    "\n",
    "# Axis labels\n",
    "ax.set_xlabel(\"Longitude [m]\", fontsize=12)\n",
    "ax.set_ylabel(\"Latitude [m]\", fontsize=12)\n",
    "ax.tick_params(labelsize=10)\n",
    "\n",
    "plt.tight_layout()\n",
    "plt.show()"
   ]
  },
  {
   "cell_type": "code",
   "execution_count": null,
   "id": "cfef50ff-de5b-4219-8dbd-057cf95fd96d",
   "metadata": {},
   "outputs": [],
   "source": [
    "# Apply seaborn theme\n",
    "sns.set_theme(style=\"whitegrid\")\n",
    "\n",
    "# Create figure and axis\n",
    "fig, ax = plt.subplots(1, 1, figsize=(10, 10))\n",
    "\n",
    "# Plot voivodeships\n",
    "woj.plot(ax=ax, color=\"#f7f7f7\", edgecolor=\"black\", linewidth=0.8, label='Voivodeships')\n",
    "\n",
    "# Plot rivers\n",
    "rzeki.plot(ax=ax, color=\"#1f78b4\", linewidth=0.8, label='Rivers')\n",
    "\n",
    "# Plot hydro stations (triangles)\n",
    "gdf_m.plot(ax=ax, color=\"#377eb8\", edgecolor=\"black\", marker='o', markersize=50, label='Meteo Stations')\n",
    "\n",
    "# Title\n",
    "ax.set_title(\"Meteo Stations in Poland with Rivers\", fontsize=16, fontweight='bold', pad=20)\n",
    "\n",
    "# Axis labels with units\n",
    "ax.set_xlabel(\"Longtitude [m]\", fontsize=12)\n",
    "ax.set_ylabel(\"Latitude [m]\", fontsize=12)\n",
    "\n",
    "# Customize ticks for readability\n",
    "ax.tick_params(labelsize=10)\n",
    "\n",
    "# Add legend\n",
    "legend = ax.legend(loc='lower left', fontsize=10, frameon=True,\n",
    "                   facecolor='white', edgecolor='black',\n",
    "                   title='Legend', title_fontsize=12)\n",
    "\n",
    "# Improve layout\n",
    "plt.tight_layout()\n",
    "plt.show()"
   ]
  },
  {
   "cell_type": "code",
   "execution_count": null,
   "id": "2796c4a0-ca86-4fc4-872d-dc75964f1b48",
   "metadata": {},
   "outputs": [],
   "source": [
    "import matplotlib as mpl\n",
    "from mpl_toolkits.axes_grid1 import make_axes_locatable\n",
    "\n",
    "# The count of stations per voivodeship\n",
    "station_counts = gpd.sjoin(gdf_m, woj, how=\"inner\", predicate='within')\n",
    "counts_by_voivodeship_m = station_counts.groupby('JPT_NAZWA_').size()\n",
    "woj['meteo_count'] = woj['JPT_NAZWA_'].map(counts_by_voivodeship_m)\n",
    "sns.set_theme(style=\"whitegrid\")\n",
    "\n",
    "fig, ax = plt.subplots(1, 1, figsize=(10, 10))\n",
    "\n",
    "# Plot the choropleth map\n",
    "cmap = 'coolwarm'\n",
    "column = 'meteo_count'\n",
    "woj_plot = woj.plot(column=column, cmap=cmap, ax=ax, legend=False)\n",
    "\n",
    "# Create a divider for colorbar placement\n",
    "divider = make_axes_locatable(ax)\n",
    "cax = divider.append_axes(\"right\", size=\"5%\", pad=0.1)\n",
    "\n",
    "# Normalize values and create ScalarMappable\n",
    "norm = mpl.colors.Normalize(vmin=woj[column].min(), vmax=woj[column].max())\n",
    "sm = mpl.cm.ScalarMappable(cmap=cmap, norm=norm)\n",
    "sm._A = []  # Hack to make colorbar work\n",
    "\n",
    "# Create colorbar with 80% height\n",
    "cb = plt.colorbar(sm, cax=cax, orientation=\"vertical\")\n",
    "cb.ax.set_position([cb.ax.get_position().x0,\n",
    "                    cb.ax.get_position().y0 + 0.1,  # move up\n",
    "                    cb.ax.get_position().width,\n",
    "                    cb.ax.get_position().height * 0.8])  # scale height\n",
    "\n",
    "cb.set_label('Number of Meteo Stations', fontsize=12)\n",
    "\n",
    "# Title\n",
    "ax.set_title(\"Number of Meteo Stations per Voivodeship\", fontsize=16, fontweight='bold', pad=20)\n",
    "\n",
    "# Axis labels\n",
    "ax.set_xlabel(\"Longitude [m]\", fontsize=12)\n",
    "ax.set_ylabel(\"Latitude [m]\", fontsize=12)\n",
    "ax.tick_params(labelsize=10)\n",
    "\n",
    "plt.tight_layout()\n",
    "plt.show()"
   ]
  },
  {
   "cell_type": "code",
   "execution_count": null,
   "id": "3c0724b3-e886-4a7d-9bb5-e03cc74322f2",
   "metadata": {},
   "outputs": [],
   "source": [
    "# Set a threshold (in meters)\n",
    "distance_threshold = 1000\n",
    "\n",
    "# Compute the minimum distance from each station to the river network\n",
    "gdf_h['min_dist_to_river'] = gdf_h.geometry.apply(lambda point: rzeki.distance(point).min())\n",
    "\n",
    "# Filter only stations within threshold\n",
    "stations_near_rivers = gdf_h[gdf_h['min_dist_to_river'] <= distance_threshold]"
   ]
  },
  {
   "cell_type": "code",
   "execution_count": null,
   "id": "72c0998d-a9de-4578-a2a3-c8e76357754e",
   "metadata": {
    "editable": true,
    "slideshow": {
     "slide_type": ""
    },
    "tags": []
   },
   "outputs": [],
   "source": [
    "# Apply seaborn theme\n",
    "sns.set_theme(style=\"whitegrid\")\n",
    "\n",
    "# Create figure and axis\n",
    "fig, ax = plt.subplots(1, 1, figsize=(10, 10))\n",
    "\n",
    "# Plot voivodeships\n",
    "woj.plot(ax=ax, color=\"#f7f7f7\", edgecolor=\"black\", linewidth=0.8, label='Voivodeships')\n",
    "\n",
    "# Plot rivers\n",
    "rzeki.plot(ax=ax, color=\"#1f78b4\", linewidth=0.8, label='Rivers')\n",
    "\n",
    "# Plot hydro stations (triangles)\n",
    "stations_near_rivers.plot(ax=ax, color=\"#e41a1c\", edgecolor=\"black\", marker='^', markersize=50, label='Hydro Stations')\n",
    "\n",
    "# Title\n",
    "ax.set_title(\"Hydro Stations in Poland with 1km Proximity to Rivers\", fontsize=16, fontweight='bold', pad=20)\n",
    "\n",
    "# Axis labels with units\n",
    "ax.set_xlabel(\"Longtitude [m]\", fontsize=12)\n",
    "ax.set_ylabel(\"Latitude [m]\", fontsize=12)\n",
    "\n",
    "# Customize ticks for readability\n",
    "ax.tick_params(labelsize=10)\n",
    "\n",
    "# Add legend\n",
    "legend = ax.legend(loc='lower left', fontsize=10, frameon=True,\n",
    "                   facecolor='white', edgecolor='black',\n",
    "                   title='Legend', title_fontsize=12)\n",
    "\n",
    "# Improve layout\n",
    "plt.tight_layout()\n",
    "plt.show()"
   ]
  },
  {
   "cell_type": "code",
   "execution_count": null,
   "id": "3e2e7916-8641-4c34-9405-aae0358a1389",
   "metadata": {},
   "outputs": [],
   "source": []
  }
 ],
 "metadata": {
  "kernelspec": {
   "display_name": "Python 3 (ipykernel)",
   "language": "python",
   "name": "python3"
  },
  "language_info": {
   "codemirror_mode": {
    "name": "ipython",
    "version": 3
   },
   "file_extension": ".py",
   "mimetype": "text/x-python",
   "name": "python",
   "nbconvert_exporter": "python",
   "pygments_lexer": "ipython3",
   "version": "3.11.11"
  }
 },
 "nbformat": 4,
 "nbformat_minor": 5
}
